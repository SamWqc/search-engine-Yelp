{
 "cells": [
  {
   "cell_type": "markdown",
   "metadata": {},
   "source": [
    "#### Import sumy package"
   ]
  },
  {
   "cell_type": "code",
   "execution_count": 21,
   "metadata": {},
   "outputs": [],
   "source": [
    "from sumy.parsers.plaintext import PlaintextParser\n",
    "from sumy.nlp.tokenizers import Tokenizer\n",
    "from sumy.summarizers.lsa import LsaSummarizer as Summarizer\n",
    "from sumy.nlp.stemmers import Stemmer\n",
    "from sumy.utils import get_stop_words\n",
    "\n",
    "\n",
    "LANGUAGE = \"english\"\n",
    "SENTENCES_COUNT = 1\n"
   ]
  },
  {
   "cell_type": "code",
   "execution_count": 26,
   "metadata": {},
   "outputs": [],
   "source": [
    "def get_summary(text,lan, sentences_count ):\n",
    "    parser = PlaintextParser.from_string(text, Tokenizer(lan))\n",
    "    stemmer = Stemmer(lan)\n",
    "\n",
    "    summarizer = Summarizer(stemmer)\n",
    "    summarizer.stop_words = get_stop_words(lan)\n",
    "    \n",
    "    sum_res = []\n",
    "    for sentence in summarizer(parser.document, sentences_count):\n",
    "        sum_res.append(sentence)\n",
    "    if len(sum_res)==1:\n",
    "        return sum_res[0]\n",
    "    return sum_res\n",
    "    "
   ]
  },
  {
   "cell_type": "markdown",
   "metadata": {},
   "source": [
    "#### Import Lucene"
   ]
  },
  {
   "cell_type": "code",
   "execution_count": 16,
   "metadata": {},
   "outputs": [],
   "source": [
    "from math import radians, cos, sin, asin, sqrt\n",
    "import sys, os, lucene, threading, time \n",
    "from java.nio.file import Paths\n",
    "from org.apache.lucene import analysis, document, index, queryparser, search, store\n",
    "from org.apache.lucene.store import SimpleFSDirectory \n",
    "from org.apache.lucene.index import FieldInfo, IndexWriter, IndexWriterConfig ,DirectoryReader,IndexReader,Term\n",
    "from org.apache.lucene.search import \\\n",
    "    BooleanClause, BooleanQuery, Explanation, PhraseQuery, TermQuery, ScoreMode\n",
    "from org.apache.lucene.util import Version\n",
    "from org.apache.lucene.search.similarities import \\\n",
    "ClassicSimilarity,BooleanSimilarity, LMDirichletSimilarity,BM25Similarity,TFIDFSimilarity,LMJelinekMercerSimilarity\n",
    "from org.apache.lucene.queryparser.classic import QueryParser,MultiFieldQueryParser\n",
    "from org.apache.lucene.analysis.standard import StandardAnalyzer\n",
    "from org.apache.pylucene.queryparser.classic import \\\n",
    "    PythonQueryParser, PythonMultiFieldQueryParser\n",
    "from org.apache.lucene.document import LatLonPoint,FloatPoint,IntPoint"
   ]
  },
  {
   "cell_type": "code",
   "execution_count": 17,
   "metadata": {},
   "outputs": [
    {
     "data": {
      "text/plain": [
       "<jcc.JCCEnv at 0x160175af8>"
      ]
     },
     "execution_count": 17,
     "metadata": {},
     "output_type": "execute_result"
    }
   ],
   "source": [
    "lucene.initVM()"
   ]
  },
  {
   "cell_type": "code",
   "execution_count": 18,
   "metadata": {},
   "outputs": [],
   "source": [
    "PATH = './data1/index'\n",
    "directory =  SimpleFSDirectory(Paths.get(PATH))\n",
    "ireader = DirectoryReader.open(directory)\n",
    "isearcher = search.IndexSearcher(ireader)"
   ]
  },
  {
   "cell_type": "markdown",
   "metadata": {},
   "source": [
    "#### Query result with summary"
   ]
  },
  {
   "cell_type": "code",
   "execution_count": 28,
   "metadata": {},
   "outputs": [],
   "source": [
    "#query= 'chinese food with good servce'\n",
    "r1 = QueryParser('review',StandardAnalyzer())\n",
    "rk1 = r1.parse('portland korean barbeque')\n",
    "rk1_hits=isearcher.search(rk1,10).scoreDocs"
   ]
  },
  {
   "cell_type": "code",
   "execution_count": 29,
   "metadata": {},
   "outputs": [
    {
     "name": "stdout",
     "output_type": "stream",
     "text": [
      "Name:New Jang Su BBQ\tCategories:Korean, Restaurants, Barbeque\tStars: 3.5\tSummary:Pottery bi bim bop (rice) and chap chae (noodles).\n",
      "----------------------------------------------------------------------------------------------------\n",
      "Name:Wavey's Bar-B-Que\tCategories:Food, Restaurants, Food Trucks, Barbeque\tStars: 3.5\tSummary:Good old fashioned barbeque.\n",
      "----------------------------------------------------------------------------------------------------\n",
      "Name:D-Street  Noshery\tCategories:Restaurants, Food Stands\tStars: 4.0\tSummary:This is how the food cart scene needs to evolve .. D Street Noshery is closed for good.. Best pie in Portland\n",
      "----------------------------------------------------------------------------------------------------\n",
      "Name:Han Oak\tCategories:Restaurants, Barbeque, Breakfast & Brunch, Bars, American (New), Nightlife, Korean, Desserts, Food, Asian Fusion\tStars: 4.0\tSummary:You can also make a bootleg version using fish roe paste from IKEA, butter, cream/milk and a dash of soy sauce... but sometimes it's nice to walk into a restaurant for it!.\n",
      "----------------------------------------------------------------------------------------------------\n",
      "Name:Toji Korean Grill House\tCategories:Vietnamese, Barbeque, Korean, Restaurants\tStars: 3.5\tSummary:$12.95 for thin slices beef and pork.. Great for late night Korean!\n",
      "----------------------------------------------------------------------------------------------------\n",
      "Name:Kkoki Korean BBQ - Portland\tCategories:Barbeque, Korean, Restaurants\tStars: 4.0\tSummary:Ordinary meal not a problem.. Be prepared to wait a while for orders of raw meat to be served to you.\n",
      "----------------------------------------------------------------------------------------------------\n",
      "Name:Bibi2go\tCategories:Restaurants, Asian Fusion, Korean, Vegetarian, Salad, Soup\tStars: 4.5\tSummary:Great food and nice people.. Tasty Dae Ji Bulgogi (spicy pork).\n",
      "----------------------------------------------------------------------------------------------------\n",
      "Name:SARI\tCategories:Restaurants, Korean, Ramen, Asian Fusion, Japanese\tStars: 4.5\tSummary:Amazing service.. Lovely meal on a cold day.\n",
      "----------------------------------------------------------------------------------------------------\n",
      "Name:Sokongdong Tofu & BBQ\tCategories:Barbeque, Asian Fusion, Korean, Restaurants\tStars: 4.0\tSummary:I shared the seafood pancake and stone pot bibimbab, both were stellar and left a lot of food to go home with.. Great place for Korean, with tons of veggie options.. best bulgogi in Portland!.\n",
      "----------------------------------------------------------------------------------------------------\n",
      "Name:New Seoul Garden\tCategories:Nightlife, Barbeque, Korean, Bars, Restaurants, Vietnamese\tStars: 3.5\tSummary:It woke me up at 5am haunting me.. NO LONGER THERE: All-you-can-eat \"banchan\" (side dish) buffet.. Their green Korean slaw are the best especially with pork belly^^ seafood pancake is must have.\n",
      "----------------------------------------------------------------------------------------------------\n"
     ]
    }
   ],
   "source": [
    "for hit in rk1_hits:\n",
    "    hitDoc = isearcher.doc(hit.doc)\n",
    "    print(\n",
    "          'Name:'+hitDoc['name']+'\\t'+\n",
    "          'Categories:'+hitDoc['categories']+'\\t'+\n",
    "          'Stars: '+hitDoc['stars']+'\\t'+\n",
    "          'Summary:'+ str(get_summary(hitDoc['review'],LANGUAGE,SENTENCES_COUNT)) )\n",
    "    print('-'*100)\n",
    "    "
   ]
  },
  {
   "cell_type": "code",
   "execution_count": null,
   "metadata": {},
   "outputs": [],
   "source": []
  }
 ],
 "metadata": {
  "kernelspec": {
   "display_name": "Python 3.7.3 64-bit",
   "language": "python",
   "name": "python37364bit2966042795024b85b7b28500c375cc23"
  },
  "language_info": {
   "codemirror_mode": {
    "name": "ipython",
    "version": 3
   },
   "file_extension": ".py",
   "mimetype": "text/x-python",
   "name": "python",
   "nbconvert_exporter": "python",
   "pygments_lexer": "ipython3",
   "version": "3.7.3"
  }
 },
 "nbformat": 4,
 "nbformat_minor": 4
}
