{
 "cells": [
  {
   "cell_type": "markdown",
   "metadata": {},
   "source": [
    "### Import packages"
   ]
  },
  {
   "cell_type": "code",
   "execution_count": 1,
   "metadata": {},
   "outputs": [],
   "source": [
    "from math import radians, cos, sin, asin, sqrt\n",
    "import sys, os, lucene, threading, time \n",
    "from java.nio.file import Paths\n",
    "from org.apache.lucene import analysis, document, index, queryparser, search, store\n",
    "from org.apache.lucene.store import SimpleFSDirectory \n",
    "from org.apache.lucene.index import FieldInfo, IndexWriter, IndexWriterConfig ,DirectoryReader,IndexReader,Term\n",
    "from org.apache.lucene.search import \\\n",
    "    BooleanClause, BooleanQuery, Explanation, PhraseQuery, TermQuery, ScoreMode\n",
    "from org.apache.lucene.util import Version\n",
    "from org.apache.lucene.search.similarities import \\\n",
    "ClassicSimilarity,BooleanSimilarity, LMDirichletSimilarity,BM25Similarity,TFIDFSimilarity,LMJelinekMercerSimilarity\n",
    "from org.apache.lucene.queryparser.classic import QueryParser,MultiFieldQueryParser\n",
    "from org.apache.lucene.analysis.standard import StandardAnalyzer\n",
    "from org.apache.pylucene.queryparser.classic import \\\n",
    "    PythonQueryParser, PythonMultiFieldQueryParser\n",
    "from org.apache.lucene.document import LatLonPoint,FloatPoint,IntPoint"
   ]
  },
  {
   "cell_type": "markdown",
   "metadata": {},
   "source": [
    "### lucene initialization and read index"
   ]
  },
  {
   "cell_type": "code",
   "execution_count": 2,
   "metadata": {},
   "outputs": [
    {
     "data": {
      "text/plain": [
       "<jcc.JCCEnv at 0x10e7ad318>"
      ]
     },
     "execution_count": 2,
     "metadata": {},
     "output_type": "execute_result"
    }
   ],
   "source": [
    "lucene.initVM()"
   ]
  },
  {
   "cell_type": "code",
   "execution_count": 3,
   "metadata": {},
   "outputs": [],
   "source": [
    "PATH = './data1/index'\n",
    "directory =  SimpleFSDirectory(Paths.get(PATH))"
   ]
  },
  {
   "cell_type": "markdown",
   "metadata": {},
   "source": [
    "### Build Search"
   ]
  },
  {
   "cell_type": "code",
   "execution_count": 4,
   "metadata": {},
   "outputs": [],
   "source": [
    "ireader = DirectoryReader.open(directory)\n",
    "isearcher = search.IndexSearcher(ireader)"
   ]
  },
  {
   "cell_type": "markdown",
   "metadata": {},
   "source": [
    "### Query\n",
    "\n",
    "---"
   ]
  },
  {
   "cell_type": "markdown",
   "metadata": {},
   "source": [
    "#### Boolean Query"
   ]
  },
  {
   "cell_type": "markdown",
   "metadata": {},
   "source": [
    "##### Single Field Boolean Query"
   ]
  },
  {
   "cell_type": "code",
   "execution_count": 5,
   "metadata": {},
   "outputs": [],
   "source": [
    "#query = categories: food and beer \n",
    "b1 = BooleanQuery.Builder()\n",
    "b1.add(TermQuery(Term(\"categories\", \"food\")), BooleanClause.Occur.MUST)\n",
    "b1.add(TermQuery(Term(\"categories\", \"beer\")), BooleanClause.Occur.MUST)\n",
    "bq1 = b1.build()"
   ]
  },
  {
   "cell_type": "code",
   "execution_count": 6,
   "metadata": {},
   "outputs": [],
   "source": [
    "b1_hits = isearcher.search(bq1,10).scoreDocs"
   ]
  },
  {
   "cell_type": "code",
   "execution_count": 7,
   "metadata": {},
   "outputs": [
    {
     "name": "stdout",
     "output_type": "stream",
     "text": [
      "Business_id: 7lZBRWIBam0oAwFFOBvBhA\tName: Belmont Station\tAddress: 4500 SE Stark St\tCategories: Nightlife, Bars, Beer Bar, Beer, Wine & Spirits, Beer Gardens, Food\n",
      "----------------------------------------------------------------------------------------------------\n",
      "Business_id: 3eGvOTVpmJ6B_dKwfGgXNw\tName: Hop City Craft Beer and Wine\tAddress: 99 Krog St NE\tCategories: Beer Gardens, Food, Beer Bar, Beer, Wine & Spirits, Bars, Nightlife\n",
      "----------------------------------------------------------------------------------------------------\n",
      "Business_id: _eMpuJiJkBkG-j-I8CGOJg\tName: Imperial Bottle Shop & Taproom\tAddress: 2006 NE Alberta St\tCategories: Beer Gardens, Nightlife, Beer, Wine & Spirits, Food, Bars, Beer Bar\n",
      "----------------------------------------------------------------------------------------------------\n",
      "Business_id: 4QrP2MbpEC6LLUD0L_OVLw\tName: Scout Beer Garden\tAddress: 3201 SW Moody Ave\tCategories: Food, Beer Gardens, Beer, Wine & Spirits, Food Trucks, Nightlife\n",
      "----------------------------------------------------------------------------------------------------\n",
      "Business_id: eFIZe_uDRQ_LKjRm5I7bgg\tName: Imperial Bottle Shop & Taproom\tAddress: 3090 SE Division St\tCategories: Bars, Beer, Wine & Spirits, Beer Bar, Beer Gardens, Nightlife, Restaurants, Food\n",
      "----------------------------------------------------------------------------------------------------\n",
      "Business_id: oDmhLC1yk3lWobbo9Fd8CA\tName: Scout Beer Garden\tAddress: SE Division St And Se 28th Ave\tCategories: Food Trucks, Food, Nightlife, Breweries, Beer, Wine & Spirits, Beer Gardens\n",
      "----------------------------------------------------------------------------------------------------\n",
      "Business_id: qgGr4QPdcVOfeiSwC8BJhQ\tName: GB's Bottle Shop and Tasting Bar\tAddress: 531 Virginia Dr\tCategories: Beer Bar, Beer, Wine & Spirits, Bars, Nightlife, Food\n",
      "----------------------------------------------------------------------------------------------------\n",
      "Business_id: DsleGw9inwvhXqjueN3ucQ\tName: Dorchester Brewing\tAddress: 1250 Massachusetts Ave\tCategories: Breweries, Nightlife, Food, Bars, Beer Gardens, Beer Bar\n",
      "----------------------------------------------------------------------------------------------------\n",
      "Business_id: rHE_Gesv-VFuAdlCrvNJAw\tName: Bar Maven\tAddress: 6219 SE Foster Rd\tCategories: Nightlife, Beer, Wine & Spirits, Beer Bar, Food, Bars\n",
      "----------------------------------------------------------------------------------------------------\n",
      "Business_id: AAo14uzEanY-E9lrtjxTow\tName: Ill Mannered Brewing Company\tAddress: 38 Grace Dr\tCategories: Food, Breweries, Bars, Beer Gardens, Nightlife, Beer Bar\n",
      "----------------------------------------------------------------------------------------------------\n"
     ]
    }
   ],
   "source": [
    "for hit in b1_hits:\n",
    "    hitDoc = isearcher.doc(hit.doc)\n",
    "    print('Business_id: '+hitDoc['business_id']+'\\t'+\n",
    "          'Name: '+hitDoc['name']+'\\t'+\n",
    "          'Address: '+hitDoc['address']+'\\t'+\n",
    "          'Categories: '+hitDoc['categories']\n",
    "         )\n",
    "    print('-'*100)"
   ]
  },
  {
   "cell_type": "markdown",
   "metadata": {},
   "source": [
    "##### Multi Fields Boolean Query"
   ]
  },
  {
   "cell_type": "code",
   "execution_count": 60,
   "metadata": {},
   "outputs": [],
   "source": [
    "#query = city: portland ; categories: shopping and restaurant \n",
    "b2 = BooleanQuery.Builder()\n",
    "b2.add(TermQuery(Term(\"city\", \"portland\")), BooleanClause.Occur.MUST)\n",
    "b2.add(TermQuery(Term(\"categories\", \"korean\")), BooleanClause.Occur.MUST)\n",
    "b2.add(TermQuery(Term(\"categories\", \"barbeque\")), BooleanClause.Occur.MUST)\n",
    "bq2 = b2.build()"
   ]
  },
  {
   "cell_type": "code",
   "execution_count": 61,
   "metadata": {},
   "outputs": [],
   "source": [
    "b2_hits = isearcher.search(bq2,10).scoreDocs"
   ]
  },
  {
   "cell_type": "code",
   "execution_count": 62,
   "metadata": {},
   "outputs": [
    {
     "name": "stdout",
     "output_type": "stream",
     "text": [
      "Business_id: 5Vrg_1JXv0B6pvkdLVxvnw\tCity: Portland\tName: Kkoki Korean BBQ - Portland\tAddress: 8001 SE Powell Blvd, Ste O\tCategories: Barbeque, Korean, Restaurants\n",
      "----------------------------------------------------------------------------------------------------\n",
      "Business_id: TfkE5yyo7VOjJWn7-TsERA\tCity: Portland\tName: K-Town Korean BBQ\tAddress: 5450 SE 82nd Ave\tCategories: Korean, Restaurants, Barbeque\n",
      "----------------------------------------------------------------------------------------------------\n",
      "Business_id: iis2N7u4j8L18wNCz8GGJg\tCity: Portland\tName: Toji Korean Grill House\tAddress: 4615 SE Hawthorne Blvd\tCategories: Vietnamese, Barbeque, Korean, Restaurants\n",
      "----------------------------------------------------------------------------------------------------\n",
      "Business_id: IEoxvVxtMpqHDyom4Ad6Tw\tCity: Portland\tName: Sokongdong Tofu & BBQ\tAddress: 2850 SE 82nd Ave, Ste 11\tCategories: Barbeque, Asian Fusion, Korean, Restaurants\n",
      "----------------------------------------------------------------------------------------------------\n",
      "Business_id: rv-DAZrhyK001pK0eZoUXQ\tCity: Portland\tName: Mago 23\tAddress: 333 NW 23rd Ave\tCategories: Barbeque, Restaurants, Asian Fusion, Korean\n",
      "----------------------------------------------------------------------------------------------------\n",
      "Business_id: sPjvMwtF_HRaEG5HKxi8eQ\tCity: Portland\tName: Kim Jong Smokehouse\tAddress: 126 SW 2nd Ave\tCategories: Smokehouse, Food, Korean, Barbeque, Restaurants\n",
      "----------------------------------------------------------------------------------------------------\n",
      "Business_id: cLSF8urcVUUNYcA84fwIvw\tCity: Portland\tName: Namu Korean & Hawaiian\tAddress: 4290 SE Belmont St\tCategories: Restaurants, Food Stands, Hawaiian, Korean, Barbeque\n",
      "----------------------------------------------------------------------------------------------------\n",
      "Business_id: kVJ9Gu6RJ8Wpy8EyC4d51g\tCity: Portland\tName: Sura Korean Restaurant\tAddress: 333 NW 23rd Ave\tCategories: Barbeque, Sushi Bars, Korean, Japanese, Restaurants\n",
      "----------------------------------------------------------------------------------------------------\n",
      "Business_id: v1a-4VwmVm2DlwtYxP3BxQ\tCity: Portland\tName: KOI Fusion PDX\tAddress: 7000 NE Airport Way\tCategories: Food, Korean, Barbeque, Food Trucks, Restaurants, Asian Fusion\n",
      "----------------------------------------------------------------------------------------------------\n",
      "Business_id: 2x3PtndKKH94xaZ90E8Pkw\tCity: Portland\tName: Kim Jong Grillin'\tAddress: 4606 SE Division St\tCategories: Barbeque, Food Stands, Restaurants, Food, Korean, Food Trucks\n",
      "----------------------------------------------------------------------------------------------------\n"
     ]
    }
   ],
   "source": [
    "for hit in b2_hits:\n",
    "    hitDoc = isearcher.doc(hit.doc)\n",
    "    print('Business_id: '+hitDoc['business_id']+'\\t'+\n",
    "          'City: '+ hitDoc['city']+'\\t'+\n",
    "          'Name: '+hitDoc['name']+'\\t'+\n",
    "          'Address: '+hitDoc['address']+'\\t'+\n",
    "          'Categories: '+hitDoc['categories']\n",
    "         )\n",
    "    print('-'*100)"
   ]
  },
  {
   "cell_type": "markdown",
   "metadata": {},
   "source": [
    "---\n",
    "\n",
    "#### Ranking Query"
   ]
  },
  {
   "cell_type": "code",
   "execution_count": 11,
   "metadata": {},
   "outputs": [
    {
     "data": {
      "text/plain": [
       "<Similarity: BM25(k1=1.2,b=0.75)>"
      ]
     },
     "execution_count": 11,
     "metadata": {},
     "output_type": "execute_result"
    }
   ],
   "source": [
    "#default model : BM25 with k_1 = 1.2 and b = 0.75\n",
    "isearcher.getSimilarity()"
   ]
  },
  {
   "cell_type": "markdown",
   "metadata": {},
   "source": [
    "##### Single Field Ranking Query"
   ]
  },
  {
   "cell_type": "code",
   "execution_count": 57,
   "metadata": {},
   "outputs": [],
   "source": [
    "#query= 'chinese food with good service'\n",
    "r1 = QueryParser('review',StandardAnalyzer())\n",
    "rk1 = r1.parse('chinese food with good service')"
   ]
  },
  {
   "cell_type": "code",
   "execution_count": 58,
   "metadata": {},
   "outputs": [],
   "source": [
    "rk1_hits=isearcher.search(rk1,10).scoreDocs"
   ]
  },
  {
   "cell_type": "code",
   "execution_count": 59,
   "metadata": {},
   "outputs": [
    {
     "name": "stdout",
     "output_type": "stream",
     "text": [
      "Business_id: wLHLYa0DmjARl7tE2GSZdw\tName:Great Taste Chinese Restaurant\tCategories:Chinese, Restaurants\tStars: 4.0\tScore:6.45\n",
      "----------------------------------------------------------------------------------------------------\n",
      "Business_id: tHcTQimgBc0Bj1JyuAPU3w\tName:3-6-9 Chinese Restaurant\tCategories:Chinese, Restaurants\tStars: 3.5\tScore:6.42\n",
      "----------------------------------------------------------------------------------------------------\n",
      "Business_id: rLOIp4WVoSV_sJFMpXJEVA\tName:Green House Chinese Restaurants\tCategories:Hong Kong Style Cafe, Cantonese, Chinese, Restaurants\tStars: 4.0\tScore:6.40\n",
      "----------------------------------------------------------------------------------------------------\n",
      "Business_id: Hpw3-9IUXpN1yBpweeFmag\tName:East Chinatown Restaurant\tCategories:Seafood, Restaurants, Soup, Chinese, Cantonese\tStars: 3.0\tScore:6.35\n",
      "----------------------------------------------------------------------------------------------------\n",
      "Business_id: ZrQ1UB8GEQde1eHJJuz8Ug\tName:China Tea\tCategories:Restaurants, Chinese, Vietnamese, Thai, Soup, Bubble Tea, Food\tStars: 4.5\tScore:6.35\n",
      "----------------------------------------------------------------------------------------------------\n",
      "Business_id: MG0e6lSAU-8qRYBUvTojEA\tName:China Star Chinese Restaurant\tCategories:Restaurants, Chinese\tStars: 4.0\tScore:6.28\n",
      "----------------------------------------------------------------------------------------------------\n",
      "Business_id: EhXO9tfwWD9-xHy1o-S8wg\tName:Hunan Bistro\tCategories:Chinese, Desserts, Food, Restaurants, Asian Fusion\tStars: 3.5\tScore:6.15\n",
      "----------------------------------------------------------------------------------------------------\n",
      "Business_id: CRKdj6wyf1FZ70vjk4ePTg\tName:Ying Bun Restaurant\tCategories:Restaurants, Chinese\tStars: 4.0\tScore:6.06\n",
      "----------------------------------------------------------------------------------------------------\n",
      "Business_id: g0vuYI9x-RdvnUxYiayXyQ\tName:Asian Taste\tCategories:Restaurants, Asian Fusion\tStars: 4.0\tScore:6.06\n",
      "----------------------------------------------------------------------------------------------------\n",
      "Business_id: -dQLeIRM_zQcswJNT0WdVQ\tName:Mexico Lindo\tCategories:Mexican, Restaurants\tStars: 4.0\tScore:6.02\n",
      "----------------------------------------------------------------------------------------------------\n"
     ]
    }
   ],
   "source": [
    "for hit in rk1_hits:\n",
    "    hitDoc = isearcher.doc(hit.doc)\n",
    "    print('Business_id: '+hitDoc['business_id']+'\\t'+\n",
    "          'Name:'+hitDoc['name']+'\\t'+\n",
    "          'Categories:'+hitDoc['categories']+'\\t'+\n",
    "          'Stars: '+hitDoc['stars']+'\\t'+\n",
    "          'Score:%.2f'%(hit.score))\n",
    "    print('-'*100)\n",
    "    "
   ]
  },
  {
   "cell_type": "markdown",
   "metadata": {},
   "source": [
    "##### Multi Field Ranking Query"
   ]
  },
  {
   "cell_type": "code",
   "execution_count": 15,
   "metadata": {},
   "outputs": [],
   "source": [
    "#query = 'portland salons with wifi'\n",
    "multiFiled_query=  PythonMultiFieldQueryParser(['city','attributes','categories','review'],StandardAnalyzer())\n",
    "multiFiled_query.setDefaultOperator(QueryParser.Operator.AND)\n",
    "mrq = multiFiled_query.parse('portland salons with wifi',['city','attributes','categories','review'],\n",
    "                     [BooleanClause.Occur.MUST, BooleanClause.Occur.SHOULD,BooleanClause.Occur.SHOULD,BooleanClause.Occur.SHOULD],\n",
    "                     StandardAnalyzer())"
   ]
  },
  {
   "cell_type": "code",
   "execution_count": 16,
   "metadata": {},
   "outputs": [
    {
     "name": "stdout",
     "output_type": "stream",
     "text": [
      "Business_id: 63sw2U3K_CgimD8claSkAg\tCity: Portland\tName:Moda Studios-Ceanna Lee\tCategories:Beauty & Spas, Men's Hair Salons, Hair Salons, Hair Stylists\tStars: 4.5\tScore:7.83\n",
      "----------------------------------------------------------------------------------------------------\n",
      "Business_id: fFoJtbo7K_7-NjJubxD4SA\tCity: Portland\tName:Luxury Nails & Foot Massage\tCategories:Hair Removal, Waxing, Massage, Beauty & Spas, Day Spas, Nail Salons\tStars: 4.0\tScore:7.59\n",
      "----------------------------------------------------------------------------------------------------\n",
      "Business_id: y_xHlaTePE7qnf2AO1-OrA\tCity: Portland\tName:Color Treats\tCategories:Waxing, Nail Salons, Massage, Hair Removal, Beauty & Spas, Nail Technicians\tStars: 5.0\tScore:6.95\n",
      "----------------------------------------------------------------------------------------------------\n",
      "Business_id: LmZvaw7W4UMhpsFJWUzy3w\tCity: Portland\tName:Silver Cloud Inn Portland\tCategories:Hotels, Event Planning & Services, Hotels & Travel\tStars: 4.0\tScore:6.87\n",
      "----------------------------------------------------------------------------------------------------\n",
      "Business_id: _sGILC92Z5pLfhOn4Od1Vw\tCity: Portland\tName:Lush Beauty Nails & Spa\tCategories:Hair Removal, Skin Care, Waxing, Nail Salons, Beauty & Spas\tStars: 4.0\tScore:6.32\n",
      "----------------------------------------------------------------------------------------------------\n",
      "Business_id: fqvyHjt14u6pNQ9N7uJsCw\tCity: Portland\tName:Yamane Salon\tCategories:Hair Salons, Beauty & Spas, Hair Removal\tStars: 4.5\tScore:6.28\n",
      "----------------------------------------------------------------------------------------------------\n",
      "Business_id: DmQxV4Lso4N0umVZn1Yfiw\tCity: Portland\tName:Lotus Spa Salon\tCategories:Nail Salons, Beauty & Spas, Day Spas\tStars: 4.0\tScore:6.23\n",
      "----------------------------------------------------------------------------------------------------\n",
      "Business_id: Ft9EH8fmKBGJDLxdZaugxw\tCity: Portland\tName:Tom's Bar\tCategories:Bars, Breakfast & Brunch, Dive Bars, Active Life, Nightlife, Horse Racing, Restaurants, Pool Halls, Sports Bars\tStars: 3.5\tScore:6.03\n",
      "----------------------------------------------------------------------------------------------------\n",
      "Business_id: 1dOev98TKf2MNoh9DaJTTQ\tCity: Portland\tName:Akemi Salon\tCategories:Beauty & Spas, Hair Salons\tStars: 4.5\tScore:5.95\n",
      "----------------------------------------------------------------------------------------------------\n",
      "Business_id: KmNa79DnHQATbj_SnjexBw\tCity: Portland\tName:Serenity Nail Spa\tCategories:Nail Salons, Beauty & Spas\tStars: 4.0\tScore:5.85\n",
      "----------------------------------------------------------------------------------------------------\n"
     ]
    }
   ],
   "source": [
    "mrq_hits=isearcher.search(mrq,10).scoreDocs\n",
    "for hit in mrq_hits:\n",
    "    hitDoc = isearcher.doc(hit.doc)\n",
    "    print('Business_id: '+hitDoc['business_id']+'\\t'+\n",
    "          'City: '+ hitDoc['city']+'\\t'+\n",
    "          'Name:'+hitDoc['name']+'\\t'+\n",
    "          'Categories:'+hitDoc['categories']+'\\t'+\n",
    "          'Stars: '+hitDoc['stars']+'\\t'+\n",
    "          'Score:%.2f'%(hit.score))\n",
    "    print('-'*100)\n",
    "    "
   ]
  },
  {
   "cell_type": "markdown",
   "metadata": {},
   "source": [
    "---\n",
    "\n",
    "#### Spatial Query"
   ]
  },
  {
   "cell_type": "code",
   "execution_count": 17,
   "metadata": {},
   "outputs": [],
   "source": [
    "#function to calculate the distance between two ponits\n",
    "def geodistance(lng1,lat1,lng2,lat2):\n",
    "    lng1, lat1, lng2, lat2 = map(radians, [float(lng1), float(lat1), float(lng2), float(lat2)]) \n",
    "    dlon=lng2-lng1\n",
    "    dlat=lat2-lat1\n",
    "    a=sin(dlat/2)**2 + cos(lat1) * cos(lat2) * sin(dlon/2)**2\n",
    "    distance=2*asin(sqrt(a))*6371*1000 \n",
    "    distance=round(distance/1000,3)\n",
    "    return distance"
   ]
  },
  {
   "cell_type": "code",
   "execution_count": 19,
   "metadata": {},
   "outputs": [],
   "source": [
    "#spatial information \n",
    "cur_location = ( 45.588906,-122.593331)\n",
    "radius = 5000.\n",
    "geo_q=LatLonPoint.newDistanceQuery(\n",
    "'location',\n",
    "    cur_location[0],\n",
    "    cur_location[1],\n",
    "    5000.\n",
    ")\n",
    "\n",
    "#keyword information\n",
    "key_q = BooleanQuery.Builder()\n",
    "key_q.add(TermQuery(Term(\"categories\", \"chinese\")), BooleanClause.Occur.SHOULD)\n",
    "key_q.add(TermQuery(Term(\"categories\", \"restaurant\")), BooleanClause.Occur.SHOULD)\n",
    "key_q.add(geo_q,BooleanClause.Occur.MUST)\n",
    "geo_key1 = key_q.build()\n",
    "\n",
    "#query = categories: chinese and restaurant within 5000. meters away"
   ]
  },
  {
   "cell_type": "code",
   "execution_count": 20,
   "metadata": {},
   "outputs": [
    {
     "name": "stdout",
     "output_type": "stream",
     "text": [
      "City:Vancouver\tName:Lucky Garden Restaurant\tAddress:10204 NE Mill Plain Blvd\tCategories:Chinese, Restaurants\tDistance:4.092km\n",
      "----------------------------------------------------------------------------------------------------\n",
      "City:Vancouver\tName:Chopsticks Restaurant\tAddress:7601 E Mill Plain Blvd\tCategories:Chinese, Restaurants\tDistance:3.966km\n",
      "----------------------------------------------------------------------------------------------------\n",
      "City:Vancouver\tName:Ming's Restaurant\tAddress:11909 SE Mill Plain Blvd\tCategories:Chinese, Restaurants\tDistance:4.842km\n",
      "----------------------------------------------------------------------------------------------------\n",
      "City:Portland\tName:China Wok\tAddress:6033 NE Win Sivers Dr, Ste D\tCategories:Chinese, Restaurants\tDistance:4.928km\n",
      "----------------------------------------------------------------------------------------------------\n",
      "City:Vancouver\tName:Fa Fa Gourmet Chinese Restaurant\tAddress:11712 NE 4th Plain Rd\tCategories:Chinese, Restaurants\tDistance:3.879km\n",
      "----------------------------------------------------------------------------------------------------\n",
      "City:Portland\tName:Kargi Gogo\tAddress:3039 NE Alberta St\tCategories:Restaurants, Georgian, Chinese\tDistance:4.574km\n",
      "----------------------------------------------------------------------------------------------------\n",
      "City:Portland\tName:Pho Dalat\tAddress:10232 NE Sandy Blvd\tCategories:Chinese, Vietnamese, Restaurants\tDistance:4.387km\n",
      "----------------------------------------------------------------------------------------------------\n",
      "City:Portland\tName:Good World Chinese Restaurant\tAddress:10721 NE Sandy Blvd\tCategories:Chinese, Food, Restaurants\tDistance:4.631km\n",
      "----------------------------------------------------------------------------------------------------\n",
      "City:Portland\tName:Panda Express\tAddress:7000 N Airport Way\tCategories:Chinese, Restaurants, Fast Food\tDistance:0.035km\n",
      "----------------------------------------------------------------------------------------------------\n",
      "City:Portland\tName:Panda Express\tAddress:10213 NE Cascades Pkwy\tCategories:Fast Food, Food, Restaurants, Chinese\tDistance:3.34km\n",
      "----------------------------------------------------------------------------------------------------\n"
     ]
    }
   ],
   "source": [
    "b1_hits = isearcher.search(geo_key1,10).scoreDocs\n",
    "for hit in b1_hits:\n",
    "    hitDoc = isearcher.doc(hit.doc)\n",
    "    \n",
    "    print('City:'+hitDoc['city']+'\\t'+\n",
    "          'Name:'+hitDoc['name']+'\\t'+\n",
    "          'Address:'+hitDoc['address']+'\\t'+\n",
    "          'Categories:'+hitDoc['categories']+'\\t'+\n",
    "          'Distance:'+str(geodistance(hitDoc['long'],hitDoc['lat'] , cur_location[1],cur_location[0]))+ 'km'\n",
    "    )\n",
    "    print('-'*100)\n",
    "          "
   ]
  },
  {
   "cell_type": "markdown",
   "metadata": {},
   "source": [
    "---\n",
    "\n",
    "#### Numerical Range Query"
   ]
  },
  {
   "cell_type": "code",
   "execution_count": 55,
   "metadata": {},
   "outputs": [],
   "source": [
    "#query = categories: bar  with stars higher than 4.5\n",
    "range_q = FloatPoint.newRangeQuery('stars',4.5,5.)\n",
    "rb = BooleanQuery.Builder()\n",
    "rb.add(TermQuery(Term(\"categories\", \"bar\")), BooleanClause.Occur.MUST)\n",
    "rb.add(TermQuery(Term(\"city\", \"portland\")), BooleanClause.Occur.MUST)\n",
    "rb.add(range_q,BooleanClause.Occur.SHOULD)\n",
    "rbq = rb.build()"
   ]
  },
  {
   "cell_type": "code",
   "execution_count": 56,
   "metadata": {},
   "outputs": [
    {
     "name": "stdout",
     "output_type": "stream",
     "text": [
      "City: Portland\tName: Beer O'Clock\tStar: 4.5\tCategories:Bars, Beer Bar, Nightlife\n",
      "----------------------------------------------------------------------------------------------------\n",
      "City: Portland\tName: Lombard House\tStar: 5.0\tCategories:Pubs, Beer Bar, Bars, Nightlife\n",
      "----------------------------------------------------------------------------------------------------\n",
      "City: Portland\tName: Barrio\tStar: 5.0\tCategories:Wine Bars, Bars, Beer Bar, Nightlife\n",
      "----------------------------------------------------------------------------------------------------\n",
      "City: Portland\tName: Mayfly Taproom And Bottle Shop\tStar: 5.0\tCategories:Beer Bar, Nightlife, Bars, Breweries, Food\n",
      "----------------------------------------------------------------------------------------------------\n",
      "City: Portland\tName: BeerQuest Walking Tours\tStar: 4.5\tCategories:Breweries, Walking Tours, Beer Tours, Bars, Pubs, Nightlife, Hotels & Travel, Beer Bar, Tours, Food, Bar Crawl\n",
      "----------------------------------------------------------------------------------------------------\n",
      "City: Portland\tName: Bailey's Taproom\tStar: 4.5\tCategories:Food, Nightlife, Bars, Breweries, Beer Bar, Pubs\n",
      "----------------------------------------------------------------------------------------------------\n",
      "City: Portland\tName: The Upper Lip\tStar: 4.5\tCategories:Beer Bar, Beer, Wine & Spirits, Food, Nightlife, Bars\n",
      "----------------------------------------------------------------------------------------------------\n",
      "City: Portland\tName: Scottie's Pizza Parlor\tStar: 4.5\tCategories:Restaurants, Food, Nightlife, Pizza, Beer Bar, Desserts, Bars\n",
      "----------------------------------------------------------------------------------------------------\n",
      "City: Portland\tName: Reverend Nat's Hard Cider Taproom\tStar: 4.5\tCategories:Beer, Wine & Spirits, Beer Bar, Bars, Food, Nightlife, Cideries\n",
      "----------------------------------------------------------------------------------------------------\n",
      "City: Portland\tName: Labrewatory\tStar: 4.5\tCategories:Restaurants, Breakfast & Brunch, Beer Bar, Bars, Food, Breweries, Nightlife\n",
      "----------------------------------------------------------------------------------------------------\n"
     ]
    }
   ],
   "source": [
    "rbq_hits = isearcher.search(rbq,10).scoreDocs\n",
    "for hit in rbq_hits:\n",
    "    hitDoc = isearcher.doc(hit.doc)\n",
    "    print('City: '+hitDoc['city']+'\\t'+\n",
    "          'Name: '+hitDoc['name']+'\\t'+\n",
    "          'Star: '+hitDoc['stars']+'\\t'+\n",
    "          'Categories:'+hitDoc['categories']\n",
    "    )\n",
    "    print('-'*100)"
   ]
  },
  {
   "cell_type": "code",
   "execution_count": null,
   "metadata": {},
   "outputs": [],
   "source": []
  }
 ],
 "metadata": {
  "kernelspec": {
   "display_name": "Python 3.7.3 64-bit",
   "language": "python",
   "name": "python37364bit2966042795024b85b7b28500c375cc23"
  },
  "language_info": {
   "codemirror_mode": {
    "name": "ipython",
    "version": 3
   },
   "file_extension": ".py",
   "mimetype": "text/x-python",
   "name": "python",
   "nbconvert_exporter": "python",
   "pygments_lexer": "ipython3",
   "version": "3.7.3"
  }
 },
 "nbformat": 4,
 "nbformat_minor": 4
}
