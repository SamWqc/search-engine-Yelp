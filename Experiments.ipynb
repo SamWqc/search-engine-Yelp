{
 "cells": [
  {
   "cell_type": "code",
   "execution_count": 18,
   "metadata": {},
   "outputs": [],
   "source": [
    "import pandas as pd\n",
    "import sys, os, lucene, threading, time \n",
    "from java.nio.file import Paths\n",
    "from org.apache.lucene import analysis, document, index, queryparser, search, store\n",
    "from org.apache.lucene.store import SimpleFSDirectory \n",
    "from org.apache.lucene.index import FieldInfo, IndexWriter, IndexWriterConfig ,DirectoryReader,IndexReader,Term\n",
    "from org.apache.lucene.search import \\\n",
    "    BooleanClause, BooleanQuery, Explanation, PhraseQuery, TermQuery, ScoreMode\n",
    "from org.apache.lucene.util import Version\n",
    "from org.apache.lucene.search.similarities import \\\n",
    "ClassicSimilarity,BooleanSimilarity, LMDirichletSimilarity,BM25Similarity,TFIDFSimilarity,LMJelinekMercerSimilarity\n",
    "from org.apache.lucene.queryparser.classic import QueryParser,MultiFieldQueryParser\n",
    "from org.apache.lucene.analysis.standard import StandardAnalyzer\n",
    "from org.apache.pylucene.queryparser.classic import \\\n",
    "    PythonQueryParser, PythonMultiFieldQueryParser\n",
    "from org.apache.lucene.document import LatLonPoint,FloatPoint,IntPoint"
   ]
  },
  {
   "cell_type": "markdown",
   "metadata": {},
   "source": [
    "### Read exeperiment queries"
   ]
  },
  {
   "cell_type": "code",
   "execution_count": 11,
   "metadata": {},
   "outputs": [],
   "source": [
    "tmp = pd.read_excel('./experiment_query.xlsx',header=None)"
   ]
  },
  {
   "cell_type": "code",
   "execution_count": 16,
   "metadata": {},
   "outputs": [],
   "source": [
    "total_queries = list(tmp.iloc[:,1].values)\n",
    "del tmp"
   ]
  },
  {
   "cell_type": "markdown",
   "metadata": {},
   "source": [
    "### Lucene Initialization"
   ]
  },
  {
   "cell_type": "code",
   "execution_count": 19,
   "metadata": {},
   "outputs": [],
   "source": [
    "lucene.initVM()\n",
    "PATH = './data1/index'\n",
    "directory =  SimpleFSDirectory(Paths.get(PATH))\n",
    "ireader = DirectoryReader.open(directory)\n",
    "\n",
    "model_1 = search.IndexSearcher(ireader)\n",
    "model_2 = search.IndexSearcher(ireader)"
   ]
  },
  {
   "cell_type": "markdown",
   "metadata": {},
   "source": [
    "### Set Model"
   ]
  },
  {
   "cell_type": "code",
   "execution_count": 21,
   "metadata": {},
   "outputs": [],
   "source": [
    "bm25 = BM25Similarity()\n",
    "tf_idf = ClassicSimilarity()\n",
    "\n",
    "model_1.setSimilarity(bm25)\n",
    "model_2.setSimilarity(tf_idf)"
   ]
  },
  {
   "cell_type": "code",
   "execution_count": 22,
   "metadata": {},
   "outputs": [],
   "source": [
    "multiFiled_query=  PythonMultiFieldQueryParser(['city','attributes','categories','review'],StandardAnalyzer())\n",
    "multiFiled_query.setDefaultOperator(QueryParser.Operator.AND)\n"
   ]
  },
  {
   "cell_type": "code",
   "execution_count": 28,
   "metadata": {},
   "outputs": [],
   "source": [
    "def generate_expResult(model, queries, top_num):\n",
    "    \n",
    "    result = [[],[]]\n",
    "    for each_query in queries:\n",
    "        \n",
    "        mrq = multiFiled_query.parse(each_query,['city','attributes','categories','review'],\n",
    "        [BooleanClause.Occur.SHOULD, BooleanClause.Occur.SHOULD,BooleanClause.Occur.SHOULD,BooleanClause.Occur.SHOULD],\n",
    "        StandardAnalyzer())\n",
    "        \n",
    "        mrq_hits=model.search(mrq,top_num).scoreDocs\n",
    "        \n",
    "        for hit in mrq_hits:\n",
    "            hitDoc = model.doc(hit.doc)\n",
    "            result[0].append(each_query)\n",
    "            result[1].append(hitDoc['business_id'])\n",
    "    return result"
   ]
  },
  {
   "cell_type": "code",
   "execution_count": 31,
   "metadata": {},
   "outputs": [],
   "source": [
    "res_model1 = generate_expResult(model_1, total_queries, 10)\n",
    "res_model2 = generate_expResult(model_2, total_queries, 10)"
   ]
  },
  {
   "cell_type": "code",
   "execution_count": 33,
   "metadata": {},
   "outputs": [],
   "source": [
    "df_model_1 = pd.DataFrame(\n",
    "    {\n",
    "        'query':res_model1[0],\n",
    "        'business_id':res_model1[1]\n",
    "    }\n",
    ")\n",
    "\n",
    "df_model_2 = pd.DataFrame(\n",
    "    {\n",
    "        'query':res_model2[0],\n",
    "        'business_id':res_model2[1]\n",
    "    }\n",
    ")"
   ]
  },
  {
   "cell_type": "code",
   "execution_count": null,
   "metadata": {},
   "outputs": [],
   "source": []
  }
 ],
 "metadata": {
  "kernelspec": {
   "display_name": "Python 3.7.3 64-bit",
   "language": "python",
   "name": "python37364bit2966042795024b85b7b28500c375cc23"
  },
  "language_info": {
   "codemirror_mode": {
    "name": "ipython",
    "version": 3
   },
   "file_extension": ".py",
   "mimetype": "text/x-python",
   "name": "python",
   "nbconvert_exporter": "python",
   "pygments_lexer": "ipython3",
   "version": "3.7.3"
  }
 },
 "nbformat": 4,
 "nbformat_minor": 4
}
